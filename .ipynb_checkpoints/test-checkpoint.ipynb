{
 "cells": [
  {
   "cell_type": "markdown",
   "metadata": {},
   "source": [
    "\n",
    " We first import the libraries we need\n",
    " _____"
   ]
  },
  {
   "cell_type": "code",
   "execution_count": 41,
   "metadata": {},
   "outputs": [],
   "source": [
    "\n",
    "from bs4 import BeautifulSoup\n",
    "import requests\n",
    "import pandas as pd\n"
   ]
  },
  {
   "cell_type": "markdown",
   "metadata": {},
   "source": [
    "#\n",
    " We can obtain the source file using the 'get' command from the requests library.\n",
    " I first create a variable containing the link to the webpage.\n",
    " Then I create another variable to contain the response of the 'get' command.\n",
    " I pass the text only of the webpage into the 'WebText' variable\n",
    " and finally I use 'BeautifulSoup()' to parse the HTML text and pass it to 'htmlContent'\n",
    " _____"
   ]
  },
  {
   "cell_type": "code",
   "execution_count": 42,
   "metadata": {},
   "outputs": [],
   "source": [
    "WebLink = \"https://en.wikipedia.org/wiki/List_of_postal_codes_of_Canada:_M\"\n",
    "WebPage = requests.get(WebLink)\n",
    "WebText = WebPage.text\n",
    "htmlContent = BeautifulSoup(WebText, 'lxml')\n"
   ]
  },
  {
   "cell_type": "markdown",
   "metadata": {},
   "source": [
    "\n",
    " From the 'htmlContent' we extract the table containing the data we want\n",
    " and we pass it to the variable dataTable.\n",
    " <br/>\n",
    " We identify the table we want using the 'class' attribute 'wikitable sortable'\n",
    " _____"
   ]
  },
  {
   "cell_type": "code",
   "execution_count": 47,
   "metadata": {},
   "outputs": [],
   "source": [
    "dataTable = htmlContent.find('table', attrs={\"class\":\"wikitable sortable\"})\n",
    "\n"
   ]
  },
  {
   "cell_type": "markdown",
   "metadata": {},
   "source": [
    " Now that we have easy access to our web table we can iterate through each row\n",
    " identified by the HTML tags 'tr' and extract the text from each cell.\n",
    " _____"
   ]
  },
  {
   "cell_type": "code",
   "execution_count": 65,
   "metadata": {},
   "outputs": [
    {
     "name": "stdout",
     "output_type": "stream",
     "text": [
      "[{}, {'Postcode': 'M1A', 'Borough': 'Not assigned', 'Neighbourhood': 'Not assigned'}, {'Postcode': 'M2A', 'Borough': 'Not assigned', 'Neighbourhood': 'Not assigned'}, {'Postcode': 'M3A', 'Borough': 'North York', 'Neighbourhood': 'Parkwoods'}, {'Postcode': 'M4A', 'Borough': 'North York', 'Neighbourhood': 'Victoria Village'}]\n"
     ]
    }
   ],
   "source": [
    "# We can first create an array of all rows identified by the HTML tag 'tr'\n",
    "tableRows = dataTable.find_all('tr')\n",
    "\n",
    "# Now that we have an array of all rows, we can access the first element \n",
    "# and extract the headers (corresponding to the first row in the table)\n",
    "# The first row is being accessed by its index (0)\n",
    "\n",
    "TableHeaders = [] # array variable for headers initiated\n",
    "for eachElement in tableRows[0].find_all('th'):\n",
    "    TableHeaders.append(eachElement.text.replace('\\n', '').strip())\n",
    "\n",
    "theTable = [] # array variable for table initiated\n",
    "for eachRow in tableRows:\n",
    "    TableRow = {} # dictionnary variable initiated\n",
    "    for eachCell, eachHeader in zip(eachRow.find_all('td'), TableHeaders): # header as key and cell data as value\n",
    "        TableRow[eachHeader] = eachCell.text.replace('\\n', '').strip() # remove line breaks and clean the string\n",
    "    theTable.append(TableRow)\n",
    "\n",
    "print(theTable[:5]) # print the first 5 elements of the dictionnary\n"
   ]
  },
  {
   "cell_type": "markdown",
   "metadata": {},
   "source": [
    " Let's now pass the dictionnary 'theTable into a pandas dataframe\n",
    " _____"
   ]
  },
  {
   "cell_type": "code",
   "execution_count": 111,
   "metadata": {},
   "outputs": [
    {
     "data": {
      "text/html": [
       "<div>\n",
       "<style scoped>\n",
       "    .dataframe tbody tr th:only-of-type {\n",
       "        vertical-align: middle;\n",
       "    }\n",
       "\n",
       "    .dataframe tbody tr th {\n",
       "        vertical-align: top;\n",
       "    }\n",
       "\n",
       "    .dataframe thead th {\n",
       "        text-align: right;\n",
       "    }\n",
       "</style>\n",
       "<table border=\"1\" class=\"dataframe\">\n",
       "  <thead>\n",
       "    <tr style=\"text-align: right;\">\n",
       "      <th></th>\n",
       "      <th>Borough</th>\n",
       "      <th>Neighbourhood</th>\n",
       "      <th>Postcode</th>\n",
       "    </tr>\n",
       "  </thead>\n",
       "  <tbody>\n",
       "    <tr>\n",
       "      <th>0</th>\n",
       "      <td>NaN</td>\n",
       "      <td>NaN</td>\n",
       "      <td>NaN</td>\n",
       "    </tr>\n",
       "    <tr>\n",
       "      <th>1</th>\n",
       "      <td>Not assigned</td>\n",
       "      <td>Not assigned</td>\n",
       "      <td>M1A</td>\n",
       "    </tr>\n",
       "    <tr>\n",
       "      <th>2</th>\n",
       "      <td>Not assigned</td>\n",
       "      <td>Not assigned</td>\n",
       "      <td>M2A</td>\n",
       "    </tr>\n",
       "    <tr>\n",
       "      <th>3</th>\n",
       "      <td>North York</td>\n",
       "      <td>Parkwoods</td>\n",
       "      <td>M3A</td>\n",
       "    </tr>\n",
       "    <tr>\n",
       "      <th>4</th>\n",
       "      <td>North York</td>\n",
       "      <td>Victoria Village</td>\n",
       "      <td>M4A</td>\n",
       "    </tr>\n",
       "  </tbody>\n",
       "</table>\n",
       "</div>"
      ],
      "text/plain": [
       "        Borough     Neighbourhood Postcode\n",
       "0           NaN               NaN      NaN\n",
       "1  Not assigned      Not assigned      M1A\n",
       "2  Not assigned      Not assigned      M2A\n",
       "3    North York         Parkwoods      M3A\n",
       "4    North York  Victoria Village      M4A"
      ]
     },
     "execution_count": 111,
     "metadata": {},
     "output_type": "execute_result"
    }
   ],
   "source": [
    "import pandas as pd\n",
    "df = pd.DataFrame(theTable)\n",
    "df.head()\n"
   ]
  },
  {
   "cell_type": "markdown",
   "metadata": {},
   "source": [
    " We can clean our dataframe\n",
    " <br/><br/>\n",
    " Let's apply the following:\n",
    "  - delete empty row (drop na)\n",
    "  - remove rows with 'Not assigned' value as Borough\n",
    "  - replace 'Not assigned' value in Neighbourood column with value from Borough column\n",
    "  - group by columns Postcode and Borough, and join values from Neighbouhood\n",
    " <br/><br/>\n",
    " Then we can finish by applying the .shape method to print the number of rows and columns in the dataframe"
   ]
  },
  {
   "cell_type": "code",
   "execution_count": 115,
   "metadata": {},
   "outputs": [
    {
     "name": "stdout",
     "output_type": "stream",
     "text": [
      "Postcode      Borough                                  Neighbourhood\n",
      "0      M1B  Scarborough                                  Rouge,Malvern\n",
      "1      M1C  Scarborough           Highland Creek,Rouge Hill,Port Union\n",
      "2      M1E  Scarborough                Guildwood,Morningside,West Hill\n",
      "3      M1G  Scarborough                                         Woburn\n",
      "4      M1H  Scarborough                                      Cedarbrae\n",
      "5      M1J  Scarborough                            Scarborough Village\n",
      "6      M1K  Scarborough      East Birchmount Park,Ionview,Kennedy Park\n",
      "7      M1L  Scarborough                  Clairlea,Golden Mile,Oakridge\n",
      "8      M1M  Scarborough  Cliffcrest,Cliffside,Scarborough Village West\n",
      "9      M1N  Scarborough                     Birch Cliff,Cliffside West\n",
      "(103, 3)\n"
     ]
    }
   ],
   "source": [
    "df.dropna(axis=0,inplace=True)\n",
    "df = df[df.Borough !='Not assigned']\n",
    "df['Neighbourhood'] = np.where(df['Neighbourhood'] == 'Not assigned', df['Borough'], df['Neighbourhood'])\n",
    "dfResult = df.groupby(['Postcode', 'Borough'])['Neighbourhood'].apply(','.join).reset_index()\n",
    "print(dfResult.head(n=10))\n",
    "print(dfResult.shape)"
   ]
  }
 ],
 "metadata": {
  "file_extension": ".py",
  "kernelspec": {
   "display_name": "Python 3",
   "language": "python",
   "name": "python3"
  },
  "language_info": {
   "codemirror_mode": {
    "name": "ipython",
    "version": 3
   },
   "file_extension": ".py",
   "mimetype": "text/x-python",
   "name": "python",
   "nbconvert_exporter": "python",
   "pygments_lexer": "ipython3",
   "version": "3.6.5"
  },
  "mimetype": "text/x-python",
  "name": "python",
  "npconvert_exporter": "python",
  "pygments_lexer": "ipython3",
  "version": 3
 },
 "nbformat": 4,
 "nbformat_minor": 2
}
